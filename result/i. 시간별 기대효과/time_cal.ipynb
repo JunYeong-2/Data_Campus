{
 "cells": [
  {
   "cell_type": "code",
   "execution_count": 1,
   "id": "28b93184",
   "metadata": {},
   "outputs": [],
   "source": [
    "import pandas as pd\n",
    "import numpy as np\n",
    "import matplotlib.pyplot as plt\n",
    "import seaborn as sns\n",
    "sns.set_theme(style='whitegrid', font_scale=1.5)\n",
    "sns.set_palette('Set2', n_colors=10)\n",
    "plt.rc('font', family='malgun gothic')\n",
    "plt.rc('axes', unicode_minus=False)"
   ]
  },
  {
   "cell_type": "code",
   "execution_count": 2,
   "id": "ce9519f7",
   "metadata": {},
   "outputs": [],
   "source": [
    "df21 = pd.read_csv('21-7.csv', encoding='cp949')\n",
    "df22 = pd.read_csv('22-5.csv', encoding='cp949')"
   ]
  },
  {
   "cell_type": "code",
   "execution_count": 3,
   "id": "26fbe582",
   "metadata": {},
   "outputs": [],
   "source": [
    "old = pd.concat([df21, df22])"
   ]
  },
  {
   "cell_type": "code",
   "execution_count": 4,
   "id": "670b554c",
   "metadata": {},
   "outputs": [],
   "source": [
    "old['일자'] = pd.to_datetime(old['일자'], format='%Y-%m-%d')"
   ]
  },
  {
   "cell_type": "code",
   "execution_count": 5,
   "id": "bebc6a31",
   "metadata": {},
   "outputs": [],
   "source": [
    "old['week'] = old['일자'].dt.dayofweek"
   ]
  },
  {
   "cell_type": "code",
   "execution_count": 6,
   "id": "7e321eda",
   "metadata": {},
   "outputs": [],
   "source": [
    "a = old['week'] != 5\n",
    "b = old['week'] != 6\n",
    "\n",
    "pung = old[a & b]"
   ]
  },
  {
   "cell_type": "code",
   "execution_count": 7,
   "id": "8aa2f43a",
   "metadata": {},
   "outputs": [
    {
     "name": "stderr",
     "output_type": "stream",
     "text": [
      "C:\\Users\\leejunyeong\\AppData\\Local\\Temp\\ipykernel_12092\\3115792858.py:9: SettingWithCopyWarning: \n",
      "A value is trying to be set on a copy of a slice from a DataFrame.\n",
      "Try using .loc[row_indexer,col_indexer] = value instead\n",
      "\n",
      "See the caveats in the documentation: https://pandas.pydata.org/pandas-docs/stable/user_guide/indexing.html#returning-a-view-versus-a-copy\n",
      "  pung_time['all'] = sum\n"
     ]
    }
   ],
   "source": [
    "col = ['07시-08시', '08시-09시', '09시-10시', '17시-18시', '18시-19시', '19시-20시']\n",
    "\n",
    "pung_time = pung[col]\n",
    "\n",
    "sum = 0\n",
    "for i in col:\n",
    "    sum += pung_time[i]\n",
    "\n",
    "pung_time['all'] = sum"
   ]
  },
  {
   "cell_type": "code",
   "execution_count": 8,
   "id": "05578f1d",
   "metadata": {},
   "outputs": [
    {
     "data": {
      "text/plain": [
       "82110650.0"
      ]
     },
     "execution_count": 8,
     "metadata": {},
     "output_type": "execute_result"
    }
   ],
   "source": [
    "pung_time['all'].sum()"
   ]
  },
  {
   "cell_type": "code",
   "execution_count": 9,
   "id": "7449ebb8",
   "metadata": {},
   "outputs": [
    {
     "data": {
      "text/plain": [
       "Index(['연번', '일자', '역번호', '역명', '구분', '06시이전', '06시-07시', '07시-08시', '08시-09시',\n",
       "       '09시-10시', '10시-11시', '11시-12시', '12시-13시', '13시-14시', '14시-15시',\n",
       "       '15시-16시', '16시-17시', '17시-18시', '18시-19시', '19시-20시', '20시-21시',\n",
       "       '21시-22시', '22시-23시', '23시이후', 'week'],\n",
       "      dtype='object')"
      ]
     },
     "execution_count": 9,
     "metadata": {},
     "output_type": "execute_result"
    }
   ],
   "source": [
    "old.columns"
   ]
  },
  {
   "cell_type": "code",
   "execution_count": 10,
   "id": "10f33fc0",
   "metadata": {},
   "outputs": [],
   "source": [
    "col2 = ['연번', '일자', '역번호', '역명', '구분','week']\n",
    "moden = old.drop(columns=col2)\n",
    "\n",
    "sum2 = 0\n",
    "for i in moden.columns:\n",
    "    sum2 += moden[i]\n",
    "\n",
    "moden['all'] = sum2"
   ]
  },
  {
   "cell_type": "code",
   "execution_count": 11,
   "id": "40d23606",
   "metadata": {},
   "outputs": [
    {
     "data": {
      "text/plain": [
       "324372125.0"
      ]
     },
     "execution_count": 11,
     "metadata": {},
     "output_type": "execute_result"
    }
   ],
   "source": [
    "moden['all'].sum()"
   ]
  },
  {
   "cell_type": "code",
   "execution_count": 12,
   "id": "4273437d",
   "metadata": {},
   "outputs": [
    {
     "data": {
      "text/plain": [
       "0.25313719543564356"
      ]
     },
     "execution_count": 12,
     "metadata": {},
     "output_type": "execute_result"
    }
   ],
   "source": [
    "pung_time['all'].sum() / moden['all'].sum()"
   ]
  }
 ],
 "metadata": {
  "kernelspec": {
   "display_name": "Python 3 (ipykernel)",
   "language": "python",
   "name": "python3"
  },
  "language_info": {
   "codemirror_mode": {
    "name": "ipython",
    "version": 3
   },
   "file_extension": ".py",
   "mimetype": "text/x-python",
   "name": "python",
   "nbconvert_exporter": "python",
   "pygments_lexer": "ipython3",
   "version": "3.8.12"
  }
 },
 "nbformat": 4,
 "nbformat_minor": 5
}
